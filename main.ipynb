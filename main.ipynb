{
 "cells": [
  {
   "cell_type": "markdown",
   "metadata": {},
   "source": [
    "# QM9 Pro.\n",
    "Not sure what I’m supposed to call this file.  \n",
    "Plan is to keep this repo much neater than before.  \n",
    "Getting to work now."
   ]
  },
  {
   "cell_type": "code",
   "execution_count": 19,
   "metadata": {},
   "outputs": [],
   "source": [
    "import torch_geometric\n",
    "import torch\n",
    "import os\n",
    "from torch.nn import Module, Embedding, Linear, MSELoss\n",
    "from torch.optim import Adam\n",
    "from torch_geometric.nn import global_mean_pool\n",
    "import torch.optim.lr_scheduler as lr_scheduler\n",
    "from torch_geometric.datasets import QM9\n",
    "from torch_geometric.data import DataLoader\n",
    "from torch_geometric.nn import GCNConv\n",
    "import wandb"
   ]
  },
  {
   "cell_type": "code",
   "execution_count": 20,
   "metadata": {},
   "outputs": [
    {
     "data": {
      "text/plain": [
       "<torch._C.Generator at 0x114b00b50>"
      ]
     },
     "execution_count": 20,
     "metadata": {},
     "output_type": "execute_result"
    }
   ],
   "source": [
    "os.environ['WANDB_NOTEBOOK_NAME'] = 'main.ipynb'\n",
    "wandb.login()\n",
    "torch.manual_seed(2002)"
   ]
  },
  {
   "cell_type": "code",
   "execution_count": 21,
   "metadata": {},
   "outputs": [
    {
     "name": "stderr",
     "output_type": "stream",
     "text": [
      "/usr/local/Caskroom/miniconda/base/envs/GDL/lib/python3.11/site-packages/torch_geometric/data/dataset.py:242: UserWarning: The `pre_transform` argument differs from the one used in the pre-processed version of this dataset. If you want to make use of another pre-processing technique, pass `force_reload=True` explicitly to reload the dataset.\n",
      "  warnings.warn(\n",
      "/usr/local/Caskroom/miniconda/base/envs/GDL/lib/python3.11/site-packages/torch_geometric/deprecation.py:26: UserWarning: 'data.DataLoader' is deprecated, use 'loader.DataLoader' instead\n",
      "  warnings.warn(out)\n"
     ]
    }
   ],
   "source": [
    "dataset = QM9(root='QM9/')\n",
    "\n",
    "train_size = int(0.8 * len(dataset))\n",
    "val_size = int(0.1 * len(dataset))\n",
    "test_size = len(dataset) - train_size - val_size\n",
    "\n",
    "train_dataset, val_dataset, test_dataset = torch.utils.data.random_split(dataset, [train_size, val_size, test_size])\n",
    "\n",
    "train_loader = DataLoader(train_dataset, batch_size=128)\n",
    "val_loader = DataLoader(val_dataset, batch_size=128)\n",
    "test_loader = DataLoader(test_dataset, batch_size=128)"
   ]
  },
  {
   "cell_type": "code",
   "execution_count": 36,
   "metadata": {},
   "outputs": [],
   "source": [
    "config_1 = {\n",
    "    \"base_learning_rate\": 1e-3,\n",
    "    \"architecture\": \"Sparse 2-layer MPNN\",\n",
    "    \"optimizer\": \"Adam\",\n",
    "    \"scheduler\": \"ReduceLROnPlateau\",\n",
    "    \"dataset\": \"QM9\",\n",
    "    \"epochs\": 10,\n",
    "    \"batch_size\": 128,\n",
    "}\n",
    "\n",
    "config_2 = {\n",
    "    \"base_learning_rate\": 1e-3,\n",
    "    \"architecture\": \"Sparse 2-layer MPNN\",\n",
    "    \"optimizer\": \"Adam\",\n",
    "    \"scheduler\": \"COSINEANNEALINGLR\",\n",
    "    \"dataset\": \"QM9\",\n",
    "    \"epochs\": 10,\n",
    "    \"batch_size\": 128,\n",
    "}\n",
    "\n",
    "config_3 = {\n",
    "    \"base_learning_rate\": 1e-3,\n",
    "    \"architecture\": \"x\",\n",
    "    \"optimizer\": \"Adam\",\n",
    "    \"scheduler\": \"ReduceLROnPlateau\",\n",
    "    \"dataset\": \"QM9\",\n",
    "    \"epochs\": 10,\n",
    "    \"batch_size\": 128,\n",
    "}\n",
    "\n",
    "config_4 = {\n",
    "    \"base_learning_rate\": 1e-3,\n",
    "    \"architecture\": \"x\",\n",
    "    \"optimizer\": \"Adam\",\n",
    "    \"scheduler\": \"COSINEANNEALINGLR\",\n",
    "    \"dataset\": \"QM9\",\n",
    "    \"epochs\": 10,\n",
    "    \"batch_size\": 128,\n",
    "}"
   ]
  },
  {
   "cell_type": "code",
   "execution_count": 23,
   "metadata": {},
   "outputs": [],
   "source": [
    "class GCN(torch.nn.Module):\n",
    "    def __init__(self):\n",
    "        self.emb_dim = 32\n",
    "        super().__init__()\n",
    "        \n",
    "        self.embedding = Embedding(118, self.emb_dim)\n",
    "        self.conv1 = GCNConv(self.emb_dim, self.emb_dim)\n",
    "        self.conv2 = GCNConv(self.emb_dim, self.emb_dim)\n",
    "        self.lin1 = torch.nn.Linear(self.emb_dim, 8)\n",
    "        self.lin2 = torch.nn.Linear(8, 1)\n",
    "\n",
    "    def forward(self, data):\n",
    "        edge_index = data.edge_index\n",
    "        edge_attr = data.edge_attr\n",
    "        x = data.x\n",
    "\n",
    "        x = self.embedding(x)\n",
    "        x = self.conv1(x, edge_index, edge_attr)\n",
    "        x = x.relu()\n",
    "        x = self.conv2(x, edge_index, edge_attr)\n",
    "        x = x.relu()\n",
    "        \n",
    "        x = global_mean_pool(x, data.batch)\n",
    "        \n",
    "        x = self.lin1(x)\n",
    "        x = x.relu()\n",
    "        x = self.lin2(x)\n",
    "        x = x.relu()\n",
    "        \n",
    "        return x"
   ]
  },
  {
   "cell_type": "code",
   "execution_count": 24,
   "metadata": {},
   "outputs": [],
   "source": [
    "model = GCN()"
   ]
  },
  {
   "cell_type": "code",
   "execution_count": 34,
   "metadata": {},
   "outputs": [
    {
     "ename": "IndentationError",
     "evalue": "unindent does not match any outer indentation level (<tokenize>, line 55)",
     "output_type": "error",
     "traceback": [
      "\u001b[0;36m  File \u001b[0;32m<tokenize>:55\u001b[0;36m\u001b[0m\n\u001b[0;31m    test_mean_loss = torch.mean(torch.tensor(test_losses))\u001b[0m\n\u001b[0m    ^\u001b[0m\n\u001b[0;31mIndentationError\u001b[0m\u001b[0;31m:\u001b[0m unindent does not match any outer indentation level\n"
     ]
    }
   ],
   "source": [
    "# wandb project init\n",
    "wandb.init(\n",
    "    project=\"QM9-Pro\",\n",
    "    config = config_1\n",
    ")\n",
    "\n",
    "# hyperparameter init\n",
    "loss_fn = MSELoss()\n",
    "optimizer = Adam(model.parameters(), lr=1e-3)\n",
    "scheduler = lr_scheduler.ReduceLROnPlateau(optimizer=optimizer, mode='min', factor=0.3, patience=1)\n",
    "num_epochs = 10\n",
    "\n",
    "# stats\n",
    "train_losses = [[]] * num_epochs\n",
    "val_losses = [[]] * num_epochs\n",
    "val_mean_losses = []\n",
    "test_losses = []\n",
    "\n",
    "for epoch in range(num_epochs):\n",
    "    i = 0\n",
    "    # training loop\n",
    "    model.train()\n",
    "    for data in train_loader:\n",
    "        optimizer.zero_grad()\n",
    "        y = data.y\n",
    "        y_hat = model(data).view(-1)\n",
    "        loss = loss_fn(y_hat, y)\n",
    "        loss.backward()\n",
    "        losses[epoch].append(loss.item())\n",
    "        optimizer.step()\n",
    "        if i == 0:\n",
    "            print(f'EPOCH {epoch+1} OF {num_epochs} | MOST RECENT TRAIN LOSS: {loss.item()}')\n",
    "        i+=1\n",
    "        i%=100\n",
    "    \n",
    "    # val\n",
    "    model.eval()\n",
    "    for data in val_loader:\n",
    "        y = data.y\n",
    "        y_hat = model(data).view(-1)\n",
    "        loss = loss_fn(y_hat, y)\n",
    "        val_losses[epoch].append(loss.item())\n",
    "    val_mean_loss = torch.mean(torch.tensor(val_losses[epoch]))\n",
    "    print(f'EPOCH {epoch+1} OF {num_epochs} | VAL MEAN LOSS: {val_mean_loss.item()}')\n",
    "    val_mean_losses.append(val_mean_loss.item())\n",
    "    \n",
    "    scheduler.step(loss)\n",
    "\n",
    "# test\n",
    "model.eval()\n",
    "for data in test_loader:\n",
    "        y = data.y\n",
    "        y_hat = model(data).view(-1)\n",
    "        loss = loss_fn(y_hat, y)\n",
    "        test_losses.append(loss.item())\n",
    "    test_mean_loss = torch.mean(torch.tensor(test_losses))\n",
    "    print(f'TEST MEAN LOSS: {test_mean_loss.item()}')\n",
    "\n",
    "# log\n",
    "wandb.log({\"train_losses\": train_losses, \"val_losses\": val_losses, \n",
    "           \"val_mean_losses\": val_mean_losses, \"test_losses\": test_losses, \n",
    "           \"test_mean_loss\": test_mean_loss})\n",
    "\n",
    "wandb.finish()"
   ]
  },
  {
   "cell_type": "code",
   "execution_count": 27,
   "metadata": {},
   "outputs": [
    {
     "data": {
      "text/plain": [
       "[<matplotlib.lines.Line2D at 0x148abef10>]"
      ]
     },
     "execution_count": 27,
     "metadata": {},
     "output_type": "execute_result"
    },
    {
     "data": {
      "image/png": "[encoded data removed]",
      "text/plain": [
       "<Figure size 640x480 with 1 Axes>"
      ]
     },
     "metadata": {},
     "output_type": "display_data"
    }
   ],
   "source": [
    "from matplotlib import pyplot\n",
    "pyplot.plot(losses[0])"
   ]
  }
 ],
 "metadata": {
  "kernelspec": {
   "display_name": "GDL",
   "language": "python",
   "name": "python3"
  },
  "language_info": {
   "codemirror_mode": {
    "name": "ipython",
    "version": 3
   },
   "file_extension": ".py",
   "mimetype": "text/x-python",
   "name": "python",
   "nbconvert_exporter": "python",
   "pygments_lexer": "ipython3",
   "version": "3.11.8"
  }
 },
 "nbformat": 4,
 "nbformat_minor": 2
}
