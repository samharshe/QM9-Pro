{
 "cells": [
  {
   "cell_type": "markdown",
   "metadata": {},
   "source": [
    "# a separate notebook to load in the data properly."
   ]
  },
  {
   "cell_type": "code",
   "execution_count": 8,
   "metadata": {},
   "outputs": [],
   "source": [
    "from typing import Any\n",
    "import torch\n",
    "from torch_geometric.datasets import QM9\n",
    "from torch_geometric.transforms import BaseTransform"
   ]
  },
  {
   "cell_type": "code",
   "execution_count": 9,
   "metadata": {},
   "outputs": [],
   "source": [
    "class NormalizedDistance(BaseTransform):\n",
    "    def __call__(self, data: Any) -> Any:\n",
    "        edge_attr_list = []\n",
    "        edge_index_list = data.edge_index.tolist()\n",
    "        for i,j in zip(edge_index_list[0], edge_index_list[1]):\n",
    "            edge_attr_list.append(torch.dist(data.pos[i], data.pos[j]).item() / 1.8100) \n",
    "            # 1.8100 is the max distance between two connected nodes in the dataset\n",
    "            # gdb_106558 edge index 10\n",
    "        data.edge_attr = torch.Tensor(edge_attr_list)\n",
    "        return data\n",
    "\n",
    "    def __repr__(self) -> str:\n",
    "        return f'{self.__class__.__name__}()'"
   ]
  },
  {
   "cell_type": "code",
   "execution_count": 10,
   "metadata": {},
   "outputs": [
    {
     "name": "stderr",
     "output_type": "stream",
     "text": [
      "Processing...\n",
      "Using a pre-processed version of the dataset. Please install 'rdkit' to alternatively process the raw data.\n",
      "Done!\n"
     ]
    }
   ],
   "source": [
    "dataset = QM9(root='QM9/', pre_transform=NormalizedDistance())"
   ]
  }
 ],
 "metadata": {
  "kernelspec": {
   "display_name": "GDL",
   "language": "python",
   "name": "python3"
  },
  "language_info": {
   "codemirror_mode": {
    "name": "ipython",
    "version": 3
   },
   "file_extension": ".py",
   "mimetype": "text/x-python",
   "name": "python",
   "nbconvert_exporter": "python",
   "pygments_lexer": "ipython3",
   "version": "3.12.1"
  }
 },
 "nbformat": 4,
 "nbformat_minor": 2
}
