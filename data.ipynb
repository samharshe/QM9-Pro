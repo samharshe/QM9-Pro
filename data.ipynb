{
 "cells": [
  {
   "cell_type": "markdown",
   "metadata": {},
   "source": [
    "# a separate notebook to load in the data properly."
   ]
  },
  {
   "cell_type": "code",
   "execution_count": 1,
   "metadata": {},
   "outputs": [],
   "source": [
    "from typing import Any\n",
    "import torch\n",
    "from torch_geometric.datasets import QM9\n",
    "import torch_geometric.transforms as T"
   ]
  },
  {
   "cell_type": "code",
   "execution_count": 32,
   "metadata": {},
   "outputs": [],
   "source": [
    "class NormalizedDistance(T.BaseTransform):\n",
    "    def __call__(self, data: Any) -> Any:\n",
    "        edge_attr_list = []\n",
    "        edge_index_list = data.edge_index.tolist()\n",
    "        for i,j in zip(edge_index_list[0], edge_index_list[1]):\n",
    "            edge_attr_list.append(torch.dist(data.pos[i], data.pos[j]).item() / 1.8100) \n",
    "            # 1.8100 is the max distance between two connected nodes in the dataset\n",
    "            # gdb_106558 edge index 10\n",
    "        data.edge_attr = torch.Tensor(edge_attr_list)\n",
    "        return data\n",
    "\n",
    "    def __repr__(self) -> str:\n",
    "        return f'{self.__class__.__name__}()'"
   ]
  },
  {
   "cell_type": "code",
   "execution_count": 39,
   "metadata": {},
   "outputs": [],
   "source": [
    "class NormalizedInternalEnergy(T.BaseTransform):\n",
    "    def __call__(self, data: Any) -> Any:\n",
    "        data.y = torch.Tensor([data.y[0,7] / -13388.7246])\n",
    "        # -13388.7246 is the minimum U_0 in the dataset\n",
    "        return data\n",
    "\n",
    "    def __repr__(self) -> str:\n",
    "        return f'{self.__class__.__name__}()'"
   ]
  },
  {
   "cell_type": "code",
   "execution_count": 47,
   "metadata": {},
   "outputs": [],
   "source": [
    "class LeaveAtomicNumber(T.BaseTransform):\n",
    "    def __call__(self, data: Any) -> Any:\n",
    "        data.x = data.z\n",
    "        return data\n",
    "    \n",
    "    def __repr__(self) -> str:\n",
    "        return f'{self.__class__.__name__}()'"
   ]
  },
  {
   "cell_type": "code",
   "execution_count": 48,
   "metadata": {},
   "outputs": [],
   "source": [
    "transform = T.Compose([NormalizedDistance(), NormalizedInternalEnergy(), LeaveAtomicNumber()])"
   ]
  },
  {
   "cell_type": "code",
   "execution_count": 49,
   "metadata": {},
   "outputs": [
    {
     "name": "stderr",
     "output_type": "stream",
     "text": [
      "Downloading https://data.pyg.org/datasets/qm9_v3.zip\n",
      "Extracting QM9/raw/qm9_v3.zip\n",
      "Processing...\n",
      "Using a pre-processed version of the dataset. Please install 'rdkit' to alternatively process the raw data.\n",
      "Done!\n"
     ]
    }
   ],
   "source": [
    "dataset = QM9(root='QM9/', pre_transform=transform)"
   ]
  }
 ],
 "metadata": {
  "kernelspec": {
   "display_name": "GDL",
   "language": "python",
   "name": "python3"
  },
  "language_info": {
   "codemirror_mode": {
    "name": "ipython",
    "version": 3
   },
   "file_extension": ".py",
   "mimetype": "text/x-python",
   "name": "python",
   "nbconvert_exporter": "python",
   "pygments_lexer": "ipython3",
   "version": "3.11.8"
  }
 },
 "nbformat": 4,
 "nbformat_minor": 2
}
